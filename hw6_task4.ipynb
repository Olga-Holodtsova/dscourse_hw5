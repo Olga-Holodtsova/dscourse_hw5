{
  "nbformat": 4,
  "nbformat_minor": 0,
  "metadata": {
    "colab": {
      "provenance": [],
      "toc_visible": true,
      "authorship_tag": "ABX9TyOHIFEEdFkP0+j9X4eMU4UE",
      "include_colab_link": true
    },
    "kernelspec": {
      "name": "python3",
      "display_name": "Python 3"
    },
    "language_info": {
      "name": "python"
    }
  },
  "cells": [
    {
      "cell_type": "markdown",
      "metadata": {
        "id": "view-in-github",
        "colab_type": "text"
      },
      "source": [
        "<a href=\"https://colab.research.google.com/github/Olga-Holodtsova/dscourse_hw6/blob/main/hw6_task4.ipynb\" target=\"_parent\"><img src=\"https://colab.research.google.com/assets/colab-badge.svg\" alt=\"Open In Colab\"/></a>"
      ]
    },
    {
      "cell_type": "code",
      "source": [
        "# Простая система аутентификации на Python\n",
        "\n",
        "# Словарь для хранения пользователей и их паролей\n",
        "user_credentials = {\n",
        "    'user1': 'password123',\n",
        "    'user2': 'securepass',\n",
        "}\n",
        "\n",
        "# Функция для регистрации нового пользователя\n",
        "def register_user(username, password):\n",
        "    if username in user_credentials:\n",
        "        print(f'Пользователь {username} уже существует.')\n",
        "    else:\n",
        "        user_credentials[username] = password\n",
        "        print(f'Пользователь {username} успешно зарегистрирован.')\n",
        "\n",
        "# Функция для проверки аутентификации пользователя\n",
        "def authenticate_user(username, password):\n",
        "    if username in user_credentials and user_credentials[username] == password:\n",
        "        print(f'Пользователь {username} успешно аутентифицирован.')\n",
        "    else:\n",
        "        print('Неверное имя пользователя или пароль.')\n",
        "\n",
        "# Пример регистрации нового пользователя\n",
        "register_user('user1', 'password123')\n",
        "\n",
        "# Пример аутентификации пользователя\n",
        "authenticate_user('user1', 'password123')\n",
        "authenticate_user('user1', 'wrongpassword')\n",
        "\n",
        "\n"
      ],
      "metadata": {
        "colab": {
          "base_uri": "https://localhost:8080/"
        },
        "id": "tSW9Fi84JMlG",
        "outputId": "4d98bd7a-164a-47b2-98d9-85f3e52330d3"
      },
      "execution_count": 4,
      "outputs": [
        {
          "output_type": "stream",
          "name": "stdout",
          "text": [
            "Пользователь user1 уже существует.\n",
            "Пользователь user1 успешно аутентифицирован.\n",
            "Неверное имя пользователя или пароль.\n"
          ]
        }
      ]
    },
    {
      "cell_type": "code",
      "execution_count": 3,
      "metadata": {
        "colab": {
          "base_uri": "https://localhost:8080/"
        },
        "id": "qF7MxHsqGgWX",
        "outputId": "3ad1d3dd-308f-41f1-f95c-8adeef6a69c2"
      },
      "outputs": [
        {
          "output_type": "stream",
          "name": "stdout",
          "text": [
            "Пользователь user1 успешно зарегистрирован.\n",
            "Пользователь user1 успешно аутентифицирован.\n"
          ]
        }
      ],
      "source": [
        "#система аутентификации на Python с хешированием данных\n",
        "\n",
        "import sqlite3\n",
        "import hashlib\n",
        "\n",
        "# Создаем подключение к базе данных (или создаем новую, если она не существует)\n",
        "conn = sqlite3.connect('users.db')\n",
        "\n",
        "# Создаем курсор для выполнения SQL-запросов\n",
        "cursor = conn.cursor()\n",
        "\n",
        "# Создаем таблицу users\n",
        "cursor.execute('''\n",
        "    CREATE TABLE IF NOT EXISTS users (\n",
        "        id INTEGER PRIMARY KEY AUTOINCREMENT,\n",
        "        username TEXT NOT NULL,\n",
        "        password TEXT NOT NULL\n",
        "    )\n",
        "''')\n",
        "\n",
        "# Функция для добавления нового пользователя\n",
        "def register_user(username, password):\n",
        "    # Хешируем пароль с использованием хеш-функции SHA-256\n",
        "    hashed_password = hashlib.sha256(password.encode()).hexdigest()\n",
        "\n",
        "    # Вставляем данные пользователя в базу данных\n",
        "    cursor.execute('INSERT INTO users (username, password) VALUES (?, ?)', (username, hashed_password))\n",
        "\n",
        "    # Сохраняем изменения\n",
        "    conn.commit()\n",
        "    print(f'Пользователь {username} успешно зарегистрирован.')\n",
        "\n",
        "# Функция для проверки аутентификации пользователя\n",
        "def authenticate_user(username, password):\n",
        "    # Хешируем введенный пароль\n",
        "    hashed_password = hashlib.sha256(password.encode()).hexdigest()\n",
        "\n",
        "    # Проверяем, есть ли пользователь с таким именем и паролем в базе данных\n",
        "    cursor.execute('SELECT * FROM users WHERE username=? AND password=?', (username, hashed_password))\n",
        "    user = cursor.fetchone()\n",
        "\n",
        "    if user:\n",
        "        print(f'Пользователь {username} успешно аутентифицирован.')\n",
        "    else:\n",
        "        print('Неверное имя пользователя или пароль.')\n",
        "\n",
        "# Пример регистрации нового пользователя\n",
        "register_user('user1', 'password123')\n",
        "\n",
        "# Пример аутентификации пользователя\n",
        "authenticate_user('user1', 'password123')\n",
        "\n",
        "# Закрываем соединение с базой данных\n",
        "conn.close()\n"
      ]
    }
  ]
}